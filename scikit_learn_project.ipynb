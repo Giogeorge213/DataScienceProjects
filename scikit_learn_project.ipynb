{
  "cells": [
    {
      "cell_type": "markdown",
      "metadata": {
        "id": "view-in-github",
        "colab_type": "text"
      },
      "source": [
        "<a href=\"https://colab.research.google.com/github/Giogeorge213/DataScienceProjects/blob/main/scikit_learn_project.ipynb\" target=\"_parent\"><img src=\"https://colab.research.google.com/assets/colab-badge.svg\" alt=\"Open In Colab\"/></a>"
      ]
    },
    {
      "cell_type": "code",
      "source": [
        "import pandas as pd\n",
        "\n",
        "from sklearn.model_selection import train_test_split\n",
        "from sklearn.neighbors import KNeighborsClassifier\n",
        "from sklearn.metrics import classification_report\n",
        "from sklearn.naive_bayes import MultinomialNB\n",
        "from sklearn.linear_model import LogisticRegression\n",
        "from sklearn.model_selection import cross_val_score"
      ],
      "execution_count": null,
      "outputs": [],
      "metadata": {
        "datalore": {
          "node_id": "BvInmT5nDvKAEBCjPO7O5F",
          "type": "CODE",
          "hide_input_from_viewers": true,
          "hide_output_from_viewers": true
        },
        "id": "Y4aBimfFcS1B"
      }
    },
    {
      "cell_type": "markdown",
      "source": [
        "# scikit-learn : KNN, Naive Bayes, and Logistic Regression models on airline satisfaction data for hypothetical loyalty program"
      ],
      "metadata": {
        "datalore": {
          "node_id": "JiTe8FbCrUwa8bpviS2Xkp",
          "type": "MD",
          "hide_input_from_viewers": true,
          "hide_output_from_viewers": true
        },
        "id": "6tbOp2OncS1C"
      }
    },
    {
      "cell_type": "markdown",
      "source": [
        "## from https://www.kaggle.com/datasets/teejmahal20/airline-passenger-satisfaction"
      ],
      "metadata": {
        "datalore": {
          "node_id": "VzIYyvIwrSNgScmki0NhvV",
          "type": "MD",
          "hide_input_from_viewers": true,
          "hide_output_from_viewers": true
        },
        "id": "CIxxYm0McS1C"
      }
    },
    {
      "cell_type": "markdown",
      "source": [
        "## Wrangling"
      ],
      "metadata": {
        "datalore": {
          "node_id": "71WUBxYVq1WE6yGzWAd8me",
          "type": "MD",
          "hide_input_from_viewers": true,
          "hide_output_from_viewers": true
        },
        "id": "HdLO8DmJcS1C"
      }
    },
    {
      "cell_type": "markdown",
      "source": [
        "### Combine datasets for complete data"
      ],
      "metadata": {
        "datalore": {
          "node_id": "iCqW9xJTiGiFRrbhCISFxb",
          "type": "MD",
          "hide_input_from_viewers": true,
          "hide_output_from_viewers": true
        },
        "id": "SnuS7YrjcS1C"
      }
    },
    {
      "cell_type": "code",
      "source": [
        "df1 = pd.read_csv('test.csv')\n",
        "df2= pd.read_csv('train.csv')"
      ],
      "execution_count": null,
      "outputs": [],
      "metadata": {
        "datalore": {
          "node_id": "OjVE1cTDuWVsFxCKB7oHEG",
          "type": "CODE",
          "hide_input_from_viewers": true,
          "hide_output_from_viewers": true
        },
        "id": "PSC7ZAsTcS1C"
      }
    },
    {
      "cell_type": "code",
      "source": [
        "X = pd.concat([df1,df2], ignore_index= True)"
      ],
      "execution_count": null,
      "outputs": [],
      "metadata": {
        "datalore": {
          "node_id": "yCFsHTFz3P3eUiRJFAHxHc",
          "type": "CODE",
          "hide_input_from_viewers": true,
          "hide_output_from_viewers": true
        },
        "id": "iqVKBl9dcS1C"
      }
    },
    {
      "cell_type": "markdown",
      "source": [
        "### Handle NANs"
      ],
      "metadata": {
        "datalore": {
          "node_id": "3Ji1yN1p0yGFJONnvxbZma",
          "type": "MD",
          "hide_input_from_viewers": true,
          "hide_output_from_viewers": true
        },
        "id": "QOs1zwC9cS1C"
      }
    },
    {
      "cell_type": "code",
      "source": [
        "nan_counts = X.isna().sum()\n",
        "print(nan_counts)"
      ],
      "execution_count": null,
      "outputs": [
        {
          "output_type": "stream",
          "name": "stdout",
          "text": [
            "Unnamed: 0                             0\n",
            "id                                     0\n",
            "Gender                                 0\n",
            "Customer Type                          0\n",
            "Age                                    0\n",
            "Type of Travel                         0\n",
            "Class                                  0\n",
            "Flight Distance                        0\n",
            "Inflight wifi service                  0\n",
            "Departure/Arrival time convenient      0\n",
            "Ease of Online booking                 0\n",
            "Gate location                          0\n",
            "Food and drink                         0\n",
            "Online boarding                        0\n",
            "Seat comfort                           0\n",
            "Inflight entertainment                 0\n",
            "On-board service                       0\n",
            "Leg room service                       0\n",
            "Baggage handling                       0\n",
            "Checkin service                        0\n",
            "Inflight service                       0\n",
            "Cleanliness                            0\n",
            "Departure Delay in Minutes             0\n",
            "Arrival Delay in Minutes             393\n",
            "satisfaction                           0\n",
            "dtype: int64\n"
          ]
        }
      ],
      "metadata": {
        "datalore": {
          "node_id": "NRH56eIK13GAU59A7u0MWi",
          "type": "CODE",
          "hide_input_from_viewers": true,
          "hide_output_from_viewers": true
        },
        "id": "sEpO6ElHcS1D",
        "outputId": "468b62e0-ddee-4a5b-850c-caad1afc5df9",
        "colab": {
          "base_uri": "https://localhost:8080/"
        }
      }
    },
    {
      "cell_type": "markdown",
      "source": [
        "### Arrival Delay in Minutes NANs correspond to no values entered. Drop the rows"
      ],
      "metadata": {
        "datalore": {
          "node_id": "5Chy4lwEcOmm4tYVwj1ip0",
          "type": "MD",
          "hide_input_from_viewers": true,
          "hide_output_from_viewers": true
        },
        "id": "XkfYDCuUcS1D"
      }
    },
    {
      "cell_type": "code",
      "source": [
        "naResult = X[X['Arrival Delay in Minutes'].isna()]\n",
        "print(naResult)\n",
        "X.dropna(inplace = True)"
      ],
      "execution_count": null,
      "outputs": [
        {
          "output_type": "stream",
          "name": "stdout",
          "text": [
            "        Unnamed: 0      id  Gender      Customer Type  Age   Type of Travel  \\\n",
            "516            516  107365  Female     Loyal Customer   21  Personal Travel   \n",
            "656            656  108648    Male     Loyal Customer    9  Personal Travel   \n",
            "1071          1071   16797    Male  disloyal Customer   25  Business travel   \n",
            "1224          1224   30090    Male     Loyal Customer    7  Personal Travel   \n",
            "1589          1589   41924  Female     Loyal Customer   58  Business travel   \n",
            "...            ...     ...     ...                ...  ...              ...   \n",
            "128043      102067   36729    Male     Loyal Customer   49  Personal Travel   \n",
            "128360      102384   71241    Male     Loyal Customer   58  Business travel   \n",
            "128528      102552   27684  Female  disloyal Customer   29  Business travel   \n",
            "128936      102960   36787    Male     Loyal Customer   58  Business travel   \n",
            "129516      103540   45022  Female     Loyal Customer   33  Personal Travel   \n",
            "\n",
            "           Class  Flight Distance  Inflight wifi service  \\\n",
            "516          Eco              632                      1   \n",
            "656          Eco              762                      2   \n",
            "1071         Eco             1017                      3   \n",
            "1224         Eco              399                      4   \n",
            "1589         Eco              129                      5   \n",
            "...          ...              ...                    ...   \n",
            "128043  Eco Plus             1249                      2   \n",
            "128360       Eco              733                      3   \n",
            "128528       Eco             1107                      2   \n",
            "128936       Eco             1088                      4   \n",
            "129516       Eco              359                      4   \n",
            "\n",
            "        Departure/Arrival time convenient  ...  Inflight entertainment  \\\n",
            "516                                     5  ...                       2   \n",
            "656                                     5  ...                       4   \n",
            "1071                                    4  ...                       5   \n",
            "1224                                    5  ...                       4   \n",
            "1589                                    3  ...                       5   \n",
            "...                                   ...  ...                     ...   \n",
            "128043                                  5  ...                       3   \n",
            "128360                                  3  ...                       3   \n",
            "128528                                  1  ...                       5   \n",
            "128936                                  4  ...                       5   \n",
            "129516                                  4  ...                       4   \n",
            "\n",
            "        On-board service  Leg room service  Baggage handling  Checkin service  \\\n",
            "516                    4                 2                 5                4   \n",
            "656                    2                 5                 2                5   \n",
            "1071                   2                 5                 2                3   \n",
            "1224                   4                 3                 1                1   \n",
            "1589                   5                 5                 5                3   \n",
            "...                  ...               ...               ...              ...   \n",
            "128043                 4                 5                 4                3   \n",
            "128360                 3                 1                 2                4   \n",
            "128528                 4                 1                 5                5   \n",
            "128936                 1                 5                 5                5   \n",
            "129516                 3                 2                 5                3   \n",
            "\n",
            "        Inflight service  Cleanliness  Departure Delay in Minutes  \\\n",
            "516                    5            2                           9   \n",
            "656                    2            4                          51   \n",
            "1071                   2            5                         126   \n",
            "1224                   4            4                           0   \n",
            "1589                   5            5                           3   \n",
            "...                  ...          ...                         ...   \n",
            "128043                 4            3                         230   \n",
            "128360                 2            3                          55   \n",
            "128528                 3            5                           0   \n",
            "128936                 3            5                           0   \n",
            "129516                 5            4                          42   \n",
            "\n",
            "        Arrival Delay in Minutes             satisfaction  \n",
            "516                          NaN  neutral or dissatisfied  \n",
            "656                          NaN  neutral or dissatisfied  \n",
            "1071                         NaN  neutral or dissatisfied  \n",
            "1224                         NaN  neutral or dissatisfied  \n",
            "1589                         NaN                satisfied  \n",
            "...                          ...                      ...  \n",
            "128043                       NaN  neutral or dissatisfied  \n",
            "128360                       NaN  neutral or dissatisfied  \n",
            "128528                       NaN  neutral or dissatisfied  \n",
            "128936                       NaN                satisfied  \n",
            "129516                       NaN  neutral or dissatisfied  \n",
            "\n",
            "[393 rows x 25 columns]\n"
          ]
        }
      ],
      "metadata": {
        "datalore": {
          "node_id": "Xe4YknGPRozE4stztfcQdM",
          "type": "CODE",
          "hide_input_from_viewers": true,
          "hide_output_from_viewers": true
        },
        "id": "WVQlnRkacS1D",
        "outputId": "4891812d-1cc5-4c96-f61d-eb1cb86b7a1d",
        "colab": {
          "base_uri": "https://localhost:8080/"
        }
      }
    },
    {
      "cell_type": "markdown",
      "source": [
        "### One-hot encoding for model training"
      ],
      "metadata": {
        "datalore": {
          "node_id": "LgFLFq7iEMnSKd74TMZU1j",
          "type": "MD",
          "hide_input_from_viewers": true,
          "hide_output_from_viewers": true
        },
        "id": "naT38gLbcS1D"
      }
    },
    {
      "cell_type": "code",
      "source": [
        "X.select_dtypes(include='object')"
      ],
      "execution_count": null,
      "outputs": [
        {
          "output_type": "execute_result",
          "data": {
            "text/plain": [
              "        Gender      Customer Type   Type of Travel     Class  \\\n",
              "0       Female     Loyal Customer  Business travel       Eco   \n",
              "1       Female     Loyal Customer  Business travel  Business   \n",
              "2         Male  disloyal Customer  Business travel       Eco   \n",
              "3         Male     Loyal Customer  Business travel  Business   \n",
              "4       Female     Loyal Customer  Business travel       Eco   \n",
              "...        ...                ...              ...       ...   \n",
              "129875  Female  disloyal Customer  Business travel       Eco   \n",
              "129876    Male     Loyal Customer  Business travel  Business   \n",
              "129877    Male  disloyal Customer  Business travel  Business   \n",
              "129878  Female  disloyal Customer  Business travel       Eco   \n",
              "129879    Male     Loyal Customer  Business travel  Business   \n",
              "\n",
              "                   satisfaction  \n",
              "0                     satisfied  \n",
              "1                     satisfied  \n",
              "2       neutral or dissatisfied  \n",
              "3                     satisfied  \n",
              "4                     satisfied  \n",
              "...                         ...  \n",
              "129875  neutral or dissatisfied  \n",
              "129876                satisfied  \n",
              "129877  neutral or dissatisfied  \n",
              "129878  neutral or dissatisfied  \n",
              "129879  neutral or dissatisfied  \n",
              "\n",
              "[129487 rows x 5 columns]"
            ],
            "text/html": [
              "\n",
              "  <div id=\"df-4551453b-7618-48d6-993e-e0b26ac9b76b\" class=\"colab-df-container\">\n",
              "    <div>\n",
              "<style scoped>\n",
              "    .dataframe tbody tr th:only-of-type {\n",
              "        vertical-align: middle;\n",
              "    }\n",
              "\n",
              "    .dataframe tbody tr th {\n",
              "        vertical-align: top;\n",
              "    }\n",
              "\n",
              "    .dataframe thead th {\n",
              "        text-align: right;\n",
              "    }\n",
              "</style>\n",
              "<table border=\"1\" class=\"dataframe\">\n",
              "  <thead>\n",
              "    <tr style=\"text-align: right;\">\n",
              "      <th></th>\n",
              "      <th>Gender</th>\n",
              "      <th>Customer Type</th>\n",
              "      <th>Type of Travel</th>\n",
              "      <th>Class</th>\n",
              "      <th>satisfaction</th>\n",
              "    </tr>\n",
              "  </thead>\n",
              "  <tbody>\n",
              "    <tr>\n",
              "      <th>0</th>\n",
              "      <td>Female</td>\n",
              "      <td>Loyal Customer</td>\n",
              "      <td>Business travel</td>\n",
              "      <td>Eco</td>\n",
              "      <td>satisfied</td>\n",
              "    </tr>\n",
              "    <tr>\n",
              "      <th>1</th>\n",
              "      <td>Female</td>\n",
              "      <td>Loyal Customer</td>\n",
              "      <td>Business travel</td>\n",
              "      <td>Business</td>\n",
              "      <td>satisfied</td>\n",
              "    </tr>\n",
              "    <tr>\n",
              "      <th>2</th>\n",
              "      <td>Male</td>\n",
              "      <td>disloyal Customer</td>\n",
              "      <td>Business travel</td>\n",
              "      <td>Eco</td>\n",
              "      <td>neutral or dissatisfied</td>\n",
              "    </tr>\n",
              "    <tr>\n",
              "      <th>3</th>\n",
              "      <td>Male</td>\n",
              "      <td>Loyal Customer</td>\n",
              "      <td>Business travel</td>\n",
              "      <td>Business</td>\n",
              "      <td>satisfied</td>\n",
              "    </tr>\n",
              "    <tr>\n",
              "      <th>4</th>\n",
              "      <td>Female</td>\n",
              "      <td>Loyal Customer</td>\n",
              "      <td>Business travel</td>\n",
              "      <td>Eco</td>\n",
              "      <td>satisfied</td>\n",
              "    </tr>\n",
              "    <tr>\n",
              "      <th>...</th>\n",
              "      <td>...</td>\n",
              "      <td>...</td>\n",
              "      <td>...</td>\n",
              "      <td>...</td>\n",
              "      <td>...</td>\n",
              "    </tr>\n",
              "    <tr>\n",
              "      <th>129875</th>\n",
              "      <td>Female</td>\n",
              "      <td>disloyal Customer</td>\n",
              "      <td>Business travel</td>\n",
              "      <td>Eco</td>\n",
              "      <td>neutral or dissatisfied</td>\n",
              "    </tr>\n",
              "    <tr>\n",
              "      <th>129876</th>\n",
              "      <td>Male</td>\n",
              "      <td>Loyal Customer</td>\n",
              "      <td>Business travel</td>\n",
              "      <td>Business</td>\n",
              "      <td>satisfied</td>\n",
              "    </tr>\n",
              "    <tr>\n",
              "      <th>129877</th>\n",
              "      <td>Male</td>\n",
              "      <td>disloyal Customer</td>\n",
              "      <td>Business travel</td>\n",
              "      <td>Business</td>\n",
              "      <td>neutral or dissatisfied</td>\n",
              "    </tr>\n",
              "    <tr>\n",
              "      <th>129878</th>\n",
              "      <td>Female</td>\n",
              "      <td>disloyal Customer</td>\n",
              "      <td>Business travel</td>\n",
              "      <td>Eco</td>\n",
              "      <td>neutral or dissatisfied</td>\n",
              "    </tr>\n",
              "    <tr>\n",
              "      <th>129879</th>\n",
              "      <td>Male</td>\n",
              "      <td>Loyal Customer</td>\n",
              "      <td>Business travel</td>\n",
              "      <td>Business</td>\n",
              "      <td>neutral or dissatisfied</td>\n",
              "    </tr>\n",
              "  </tbody>\n",
              "</table>\n",
              "<p>129487 rows × 5 columns</p>\n",
              "</div>\n",
              "    <div class=\"colab-df-buttons\">\n",
              "\n",
              "  <div class=\"colab-df-container\">\n",
              "    <button class=\"colab-df-convert\" onclick=\"convertToInteractive('df-4551453b-7618-48d6-993e-e0b26ac9b76b')\"\n",
              "            title=\"Convert this dataframe to an interactive table.\"\n",
              "            style=\"display:none;\">\n",
              "\n",
              "  <svg xmlns=\"http://www.w3.org/2000/svg\" height=\"24px\" viewBox=\"0 -960 960 960\">\n",
              "    <path d=\"M120-120v-720h720v720H120Zm60-500h600v-160H180v160Zm220 220h160v-160H400v160Zm0 220h160v-160H400v160ZM180-400h160v-160H180v160Zm440 0h160v-160H620v160ZM180-180h160v-160H180v160Zm440 0h160v-160H620v160Z\"/>\n",
              "  </svg>\n",
              "    </button>\n",
              "\n",
              "  <style>\n",
              "    .colab-df-container {\n",
              "      display:flex;\n",
              "      gap: 12px;\n",
              "    }\n",
              "\n",
              "    .colab-df-convert {\n",
              "      background-color: #E8F0FE;\n",
              "      border: none;\n",
              "      border-radius: 50%;\n",
              "      cursor: pointer;\n",
              "      display: none;\n",
              "      fill: #1967D2;\n",
              "      height: 32px;\n",
              "      padding: 0 0 0 0;\n",
              "      width: 32px;\n",
              "    }\n",
              "\n",
              "    .colab-df-convert:hover {\n",
              "      background-color: #E2EBFA;\n",
              "      box-shadow: 0px 1px 2px rgba(60, 64, 67, 0.3), 0px 1px 3px 1px rgba(60, 64, 67, 0.15);\n",
              "      fill: #174EA6;\n",
              "    }\n",
              "\n",
              "    .colab-df-buttons div {\n",
              "      margin-bottom: 4px;\n",
              "    }\n",
              "\n",
              "    [theme=dark] .colab-df-convert {\n",
              "      background-color: #3B4455;\n",
              "      fill: #D2E3FC;\n",
              "    }\n",
              "\n",
              "    [theme=dark] .colab-df-convert:hover {\n",
              "      background-color: #434B5C;\n",
              "      box-shadow: 0px 1px 3px 1px rgba(0, 0, 0, 0.15);\n",
              "      filter: drop-shadow(0px 1px 2px rgba(0, 0, 0, 0.3));\n",
              "      fill: #FFFFFF;\n",
              "    }\n",
              "  </style>\n",
              "\n",
              "    <script>\n",
              "      const buttonEl =\n",
              "        document.querySelector('#df-4551453b-7618-48d6-993e-e0b26ac9b76b button.colab-df-convert');\n",
              "      buttonEl.style.display =\n",
              "        google.colab.kernel.accessAllowed ? 'block' : 'none';\n",
              "\n",
              "      async function convertToInteractive(key) {\n",
              "        const element = document.querySelector('#df-4551453b-7618-48d6-993e-e0b26ac9b76b');\n",
              "        const dataTable =\n",
              "          await google.colab.kernel.invokeFunction('convertToInteractive',\n",
              "                                                    [key], {});\n",
              "        if (!dataTable) return;\n",
              "\n",
              "        const docLinkHtml = 'Like what you see? Visit the ' +\n",
              "          '<a target=\"_blank\" href=https://colab.research.google.com/notebooks/data_table.ipynb>data table notebook</a>'\n",
              "          + ' to learn more about interactive tables.';\n",
              "        element.innerHTML = '';\n",
              "        dataTable['output_type'] = 'display_data';\n",
              "        await google.colab.output.renderOutput(dataTable, element);\n",
              "        const docLink = document.createElement('div');\n",
              "        docLink.innerHTML = docLinkHtml;\n",
              "        element.appendChild(docLink);\n",
              "      }\n",
              "    </script>\n",
              "  </div>\n",
              "\n",
              "\n",
              "<div id=\"df-02b4371a-89bc-4b83-8da4-06e2e003887d\">\n",
              "  <button class=\"colab-df-quickchart\" onclick=\"quickchart('df-02b4371a-89bc-4b83-8da4-06e2e003887d')\"\n",
              "            title=\"Suggest charts.\"\n",
              "            style=\"display:none;\">\n",
              "\n",
              "<svg xmlns=\"http://www.w3.org/2000/svg\" height=\"24px\"viewBox=\"0 0 24 24\"\n",
              "     width=\"24px\">\n",
              "    <g>\n",
              "        <path d=\"M19 3H5c-1.1 0-2 .9-2 2v14c0 1.1.9 2 2 2h14c1.1 0 2-.9 2-2V5c0-1.1-.9-2-2-2zM9 17H7v-7h2v7zm4 0h-2V7h2v10zm4 0h-2v-4h2v4z\"/>\n",
              "    </g>\n",
              "</svg>\n",
              "  </button>\n",
              "\n",
              "<style>\n",
              "  .colab-df-quickchart {\n",
              "      --bg-color: #E8F0FE;\n",
              "      --fill-color: #1967D2;\n",
              "      --hover-bg-color: #E2EBFA;\n",
              "      --hover-fill-color: #174EA6;\n",
              "      --disabled-fill-color: #AAA;\n",
              "      --disabled-bg-color: #DDD;\n",
              "  }\n",
              "\n",
              "  [theme=dark] .colab-df-quickchart {\n",
              "      --bg-color: #3B4455;\n",
              "      --fill-color: #D2E3FC;\n",
              "      --hover-bg-color: #434B5C;\n",
              "      --hover-fill-color: #FFFFFF;\n",
              "      --disabled-bg-color: #3B4455;\n",
              "      --disabled-fill-color: #666;\n",
              "  }\n",
              "\n",
              "  .colab-df-quickchart {\n",
              "    background-color: var(--bg-color);\n",
              "    border: none;\n",
              "    border-radius: 50%;\n",
              "    cursor: pointer;\n",
              "    display: none;\n",
              "    fill: var(--fill-color);\n",
              "    height: 32px;\n",
              "    padding: 0;\n",
              "    width: 32px;\n",
              "  }\n",
              "\n",
              "  .colab-df-quickchart:hover {\n",
              "    background-color: var(--hover-bg-color);\n",
              "    box-shadow: 0 1px 2px rgba(60, 64, 67, 0.3), 0 1px 3px 1px rgba(60, 64, 67, 0.15);\n",
              "    fill: var(--button-hover-fill-color);\n",
              "  }\n",
              "\n",
              "  .colab-df-quickchart-complete:disabled,\n",
              "  .colab-df-quickchart-complete:disabled:hover {\n",
              "    background-color: var(--disabled-bg-color);\n",
              "    fill: var(--disabled-fill-color);\n",
              "    box-shadow: none;\n",
              "  }\n",
              "\n",
              "  .colab-df-spinner {\n",
              "    border: 2px solid var(--fill-color);\n",
              "    border-color: transparent;\n",
              "    border-bottom-color: var(--fill-color);\n",
              "    animation:\n",
              "      spin 1s steps(1) infinite;\n",
              "  }\n",
              "\n",
              "  @keyframes spin {\n",
              "    0% {\n",
              "      border-color: transparent;\n",
              "      border-bottom-color: var(--fill-color);\n",
              "      border-left-color: var(--fill-color);\n",
              "    }\n",
              "    20% {\n",
              "      border-color: transparent;\n",
              "      border-left-color: var(--fill-color);\n",
              "      border-top-color: var(--fill-color);\n",
              "    }\n",
              "    30% {\n",
              "      border-color: transparent;\n",
              "      border-left-color: var(--fill-color);\n",
              "      border-top-color: var(--fill-color);\n",
              "      border-right-color: var(--fill-color);\n",
              "    }\n",
              "    40% {\n",
              "      border-color: transparent;\n",
              "      border-right-color: var(--fill-color);\n",
              "      border-top-color: var(--fill-color);\n",
              "    }\n",
              "    60% {\n",
              "      border-color: transparent;\n",
              "      border-right-color: var(--fill-color);\n",
              "    }\n",
              "    80% {\n",
              "      border-color: transparent;\n",
              "      border-right-color: var(--fill-color);\n",
              "      border-bottom-color: var(--fill-color);\n",
              "    }\n",
              "    90% {\n",
              "      border-color: transparent;\n",
              "      border-bottom-color: var(--fill-color);\n",
              "    }\n",
              "  }\n",
              "</style>\n",
              "\n",
              "  <script>\n",
              "    async function quickchart(key) {\n",
              "      const quickchartButtonEl =\n",
              "        document.querySelector('#' + key + ' button');\n",
              "      quickchartButtonEl.disabled = true;  // To prevent multiple clicks.\n",
              "      quickchartButtonEl.classList.add('colab-df-spinner');\n",
              "      try {\n",
              "        const charts = await google.colab.kernel.invokeFunction(\n",
              "            'suggestCharts', [key], {});\n",
              "      } catch (error) {\n",
              "        console.error('Error during call to suggestCharts:', error);\n",
              "      }\n",
              "      quickchartButtonEl.classList.remove('colab-df-spinner');\n",
              "      quickchartButtonEl.classList.add('colab-df-quickchart-complete');\n",
              "    }\n",
              "    (() => {\n",
              "      let quickchartButtonEl =\n",
              "        document.querySelector('#df-02b4371a-89bc-4b83-8da4-06e2e003887d button');\n",
              "      quickchartButtonEl.style.display =\n",
              "        google.colab.kernel.accessAllowed ? 'block' : 'none';\n",
              "    })();\n",
              "  </script>\n",
              "</div>\n",
              "    </div>\n",
              "  </div>\n"
            ]
          },
          "metadata": {},
          "execution_count": 13
        }
      ],
      "metadata": {
        "datalore": {
          "node_id": "ycEynUDoNGD7cCeG5rNgIV",
          "type": "CODE",
          "hide_input_from_viewers": true,
          "hide_output_from_viewers": true
        },
        "id": "8dwgH1TEcS1D",
        "outputId": "78fb9822-490f-46a8-9188-1c28782352c9",
        "colab": {
          "base_uri": "https://localhost:8080/",
          "height": 424
        }
      }
    },
    {
      "cell_type": "code",
      "source": [
        "X = pd.get_dummies(X, columns=['Gender'], drop_first=True)\n",
        "X = pd.get_dummies(X, columns=['Customer Type'], drop_first=True)\n",
        "X = pd.get_dummies(X, columns=['Type of Travel'], drop_first=True)"
      ],
      "execution_count": null,
      "outputs": [],
      "metadata": {
        "datalore": {
          "node_id": "OJwJ6yTXynJXo8Rw9HMfDP",
          "type": "CODE",
          "hide_input_from_viewers": true,
          "hide_output_from_viewers": true
        },
        "id": "NJYrzEvtcS1D"
      }
    },
    {
      "cell_type": "code",
      "source": [
        "class_mapping = {'Eco': 0, 'Eco Plus': 1, 'Business': 2}\n",
        "X['Class'] = X['Class'].map(class_mapping)\n",
        "satisfaction_mapping = {'neutral or dissatisfied': 0, 'satisfied': 1}\n",
        "X['satisfaction'] = X['satisfaction'].map(satisfaction_mapping)"
      ],
      "execution_count": null,
      "outputs": [],
      "metadata": {
        "datalore": {
          "node_id": "43kITBjKbwajosOPYXqbPg",
          "type": "CODE",
          "hide_input_from_viewers": true,
          "hide_output_from_viewers": true
        },
        "id": "BqKTxdJ8cS1D"
      }
    },
    {
      "cell_type": "code",
      "source": [
        "X.head()"
      ],
      "execution_count": null,
      "outputs": [
        {
          "output_type": "execute_result",
          "data": {
            "text/plain": [
              "   Unnamed: 0     id  Age  Class  Flight Distance  Inflight wifi service  \\\n",
              "0           0  19556   52      0              160                      5   \n",
              "1           1  90035   36      2             2863                      1   \n",
              "2           2  12360   20      0              192                      2   \n",
              "3           3  77959   44      2             3377                      0   \n",
              "4           4  36875   49      0             1182                      2   \n",
              "\n",
              "   Departure/Arrival time convenient  Ease of Online booking  Gate location  \\\n",
              "0                                  4                       3              4   \n",
              "1                                  1                       3              1   \n",
              "2                                  0                       2              4   \n",
              "3                                  0                       0              2   \n",
              "4                                  3                       4              3   \n",
              "\n",
              "   Food and drink  ...  Baggage handling  Checkin service  Inflight service  \\\n",
              "0               3  ...                 5                2                 5   \n",
              "1               5  ...                 4                3                 4   \n",
              "2               2  ...                 3                2                 2   \n",
              "3               3  ...                 1                3                 1   \n",
              "4               4  ...                 2                4                 2   \n",
              "\n",
              "   Cleanliness  Departure Delay in Minutes  Arrival Delay in Minutes  \\\n",
              "0            5                          50                      44.0   \n",
              "1            5                           0                       0.0   \n",
              "2            2                           0                       0.0   \n",
              "3            4                           0                       6.0   \n",
              "4            4                           0                      20.0   \n",
              "\n",
              "   satisfaction  Gender_Male  Customer Type_disloyal Customer  \\\n",
              "0             1            0                                0   \n",
              "1             1            0                                0   \n",
              "2             0            1                                1   \n",
              "3             1            1                                0   \n",
              "4             1            0                                0   \n",
              "\n",
              "   Type of Travel_Personal Travel  \n",
              "0                               0  \n",
              "1                               0  \n",
              "2                               0  \n",
              "3                               0  \n",
              "4                               0  \n",
              "\n",
              "[5 rows x 25 columns]"
            ],
            "text/html": [
              "\n",
              "  <div id=\"df-a311fcec-0892-472f-816a-6381d517546b\" class=\"colab-df-container\">\n",
              "    <div>\n",
              "<style scoped>\n",
              "    .dataframe tbody tr th:only-of-type {\n",
              "        vertical-align: middle;\n",
              "    }\n",
              "\n",
              "    .dataframe tbody tr th {\n",
              "        vertical-align: top;\n",
              "    }\n",
              "\n",
              "    .dataframe thead th {\n",
              "        text-align: right;\n",
              "    }\n",
              "</style>\n",
              "<table border=\"1\" class=\"dataframe\">\n",
              "  <thead>\n",
              "    <tr style=\"text-align: right;\">\n",
              "      <th></th>\n",
              "      <th>Unnamed: 0</th>\n",
              "      <th>id</th>\n",
              "      <th>Age</th>\n",
              "      <th>Class</th>\n",
              "      <th>Flight Distance</th>\n",
              "      <th>Inflight wifi service</th>\n",
              "      <th>Departure/Arrival time convenient</th>\n",
              "      <th>Ease of Online booking</th>\n",
              "      <th>Gate location</th>\n",
              "      <th>Food and drink</th>\n",
              "      <th>...</th>\n",
              "      <th>Baggage handling</th>\n",
              "      <th>Checkin service</th>\n",
              "      <th>Inflight service</th>\n",
              "      <th>Cleanliness</th>\n",
              "      <th>Departure Delay in Minutes</th>\n",
              "      <th>Arrival Delay in Minutes</th>\n",
              "      <th>satisfaction</th>\n",
              "      <th>Gender_Male</th>\n",
              "      <th>Customer Type_disloyal Customer</th>\n",
              "      <th>Type of Travel_Personal Travel</th>\n",
              "    </tr>\n",
              "  </thead>\n",
              "  <tbody>\n",
              "    <tr>\n",
              "      <th>0</th>\n",
              "      <td>0</td>\n",
              "      <td>19556</td>\n",
              "      <td>52</td>\n",
              "      <td>0</td>\n",
              "      <td>160</td>\n",
              "      <td>5</td>\n",
              "      <td>4</td>\n",
              "      <td>3</td>\n",
              "      <td>4</td>\n",
              "      <td>3</td>\n",
              "      <td>...</td>\n",
              "      <td>5</td>\n",
              "      <td>2</td>\n",
              "      <td>5</td>\n",
              "      <td>5</td>\n",
              "      <td>50</td>\n",
              "      <td>44.0</td>\n",
              "      <td>1</td>\n",
              "      <td>0</td>\n",
              "      <td>0</td>\n",
              "      <td>0</td>\n",
              "    </tr>\n",
              "    <tr>\n",
              "      <th>1</th>\n",
              "      <td>1</td>\n",
              "      <td>90035</td>\n",
              "      <td>36</td>\n",
              "      <td>2</td>\n",
              "      <td>2863</td>\n",
              "      <td>1</td>\n",
              "      <td>1</td>\n",
              "      <td>3</td>\n",
              "      <td>1</td>\n",
              "      <td>5</td>\n",
              "      <td>...</td>\n",
              "      <td>4</td>\n",
              "      <td>3</td>\n",
              "      <td>4</td>\n",
              "      <td>5</td>\n",
              "      <td>0</td>\n",
              "      <td>0.0</td>\n",
              "      <td>1</td>\n",
              "      <td>0</td>\n",
              "      <td>0</td>\n",
              "      <td>0</td>\n",
              "    </tr>\n",
              "    <tr>\n",
              "      <th>2</th>\n",
              "      <td>2</td>\n",
              "      <td>12360</td>\n",
              "      <td>20</td>\n",
              "      <td>0</td>\n",
              "      <td>192</td>\n",
              "      <td>2</td>\n",
              "      <td>0</td>\n",
              "      <td>2</td>\n",
              "      <td>4</td>\n",
              "      <td>2</td>\n",
              "      <td>...</td>\n",
              "      <td>3</td>\n",
              "      <td>2</td>\n",
              "      <td>2</td>\n",
              "      <td>2</td>\n",
              "      <td>0</td>\n",
              "      <td>0.0</td>\n",
              "      <td>0</td>\n",
              "      <td>1</td>\n",
              "      <td>1</td>\n",
              "      <td>0</td>\n",
              "    </tr>\n",
              "    <tr>\n",
              "      <th>3</th>\n",
              "      <td>3</td>\n",
              "      <td>77959</td>\n",
              "      <td>44</td>\n",
              "      <td>2</td>\n",
              "      <td>3377</td>\n",
              "      <td>0</td>\n",
              "      <td>0</td>\n",
              "      <td>0</td>\n",
              "      <td>2</td>\n",
              "      <td>3</td>\n",
              "      <td>...</td>\n",
              "      <td>1</td>\n",
              "      <td>3</td>\n",
              "      <td>1</td>\n",
              "      <td>4</td>\n",
              "      <td>0</td>\n",
              "      <td>6.0</td>\n",
              "      <td>1</td>\n",
              "      <td>1</td>\n",
              "      <td>0</td>\n",
              "      <td>0</td>\n",
              "    </tr>\n",
              "    <tr>\n",
              "      <th>4</th>\n",
              "      <td>4</td>\n",
              "      <td>36875</td>\n",
              "      <td>49</td>\n",
              "      <td>0</td>\n",
              "      <td>1182</td>\n",
              "      <td>2</td>\n",
              "      <td>3</td>\n",
              "      <td>4</td>\n",
              "      <td>3</td>\n",
              "      <td>4</td>\n",
              "      <td>...</td>\n",
              "      <td>2</td>\n",
              "      <td>4</td>\n",
              "      <td>2</td>\n",
              "      <td>4</td>\n",
              "      <td>0</td>\n",
              "      <td>20.0</td>\n",
              "      <td>1</td>\n",
              "      <td>0</td>\n",
              "      <td>0</td>\n",
              "      <td>0</td>\n",
              "    </tr>\n",
              "  </tbody>\n",
              "</table>\n",
              "<p>5 rows × 25 columns</p>\n",
              "</div>\n",
              "    <div class=\"colab-df-buttons\">\n",
              "\n",
              "  <div class=\"colab-df-container\">\n",
              "    <button class=\"colab-df-convert\" onclick=\"convertToInteractive('df-a311fcec-0892-472f-816a-6381d517546b')\"\n",
              "            title=\"Convert this dataframe to an interactive table.\"\n",
              "            style=\"display:none;\">\n",
              "\n",
              "  <svg xmlns=\"http://www.w3.org/2000/svg\" height=\"24px\" viewBox=\"0 -960 960 960\">\n",
              "    <path d=\"M120-120v-720h720v720H120Zm60-500h600v-160H180v160Zm220 220h160v-160H400v160Zm0 220h160v-160H400v160ZM180-400h160v-160H180v160Zm440 0h160v-160H620v160ZM180-180h160v-160H180v160Zm440 0h160v-160H620v160Z\"/>\n",
              "  </svg>\n",
              "    </button>\n",
              "\n",
              "  <style>\n",
              "    .colab-df-container {\n",
              "      display:flex;\n",
              "      gap: 12px;\n",
              "    }\n",
              "\n",
              "    .colab-df-convert {\n",
              "      background-color: #E8F0FE;\n",
              "      border: none;\n",
              "      border-radius: 50%;\n",
              "      cursor: pointer;\n",
              "      display: none;\n",
              "      fill: #1967D2;\n",
              "      height: 32px;\n",
              "      padding: 0 0 0 0;\n",
              "      width: 32px;\n",
              "    }\n",
              "\n",
              "    .colab-df-convert:hover {\n",
              "      background-color: #E2EBFA;\n",
              "      box-shadow: 0px 1px 2px rgba(60, 64, 67, 0.3), 0px 1px 3px 1px rgba(60, 64, 67, 0.15);\n",
              "      fill: #174EA6;\n",
              "    }\n",
              "\n",
              "    .colab-df-buttons div {\n",
              "      margin-bottom: 4px;\n",
              "    }\n",
              "\n",
              "    [theme=dark] .colab-df-convert {\n",
              "      background-color: #3B4455;\n",
              "      fill: #D2E3FC;\n",
              "    }\n",
              "\n",
              "    [theme=dark] .colab-df-convert:hover {\n",
              "      background-color: #434B5C;\n",
              "      box-shadow: 0px 1px 3px 1px rgba(0, 0, 0, 0.15);\n",
              "      filter: drop-shadow(0px 1px 2px rgba(0, 0, 0, 0.3));\n",
              "      fill: #FFFFFF;\n",
              "    }\n",
              "  </style>\n",
              "\n",
              "    <script>\n",
              "      const buttonEl =\n",
              "        document.querySelector('#df-a311fcec-0892-472f-816a-6381d517546b button.colab-df-convert');\n",
              "      buttonEl.style.display =\n",
              "        google.colab.kernel.accessAllowed ? 'block' : 'none';\n",
              "\n",
              "      async function convertToInteractive(key) {\n",
              "        const element = document.querySelector('#df-a311fcec-0892-472f-816a-6381d517546b');\n",
              "        const dataTable =\n",
              "          await google.colab.kernel.invokeFunction('convertToInteractive',\n",
              "                                                    [key], {});\n",
              "        if (!dataTable) return;\n",
              "\n",
              "        const docLinkHtml = 'Like what you see? Visit the ' +\n",
              "          '<a target=\"_blank\" href=https://colab.research.google.com/notebooks/data_table.ipynb>data table notebook</a>'\n",
              "          + ' to learn more about interactive tables.';\n",
              "        element.innerHTML = '';\n",
              "        dataTable['output_type'] = 'display_data';\n",
              "        await google.colab.output.renderOutput(dataTable, element);\n",
              "        const docLink = document.createElement('div');\n",
              "        docLink.innerHTML = docLinkHtml;\n",
              "        element.appendChild(docLink);\n",
              "      }\n",
              "    </script>\n",
              "  </div>\n",
              "\n",
              "\n",
              "<div id=\"df-cd6e4bd6-fa0d-4751-b2a1-4d1b6475e32e\">\n",
              "  <button class=\"colab-df-quickchart\" onclick=\"quickchart('df-cd6e4bd6-fa0d-4751-b2a1-4d1b6475e32e')\"\n",
              "            title=\"Suggest charts.\"\n",
              "            style=\"display:none;\">\n",
              "\n",
              "<svg xmlns=\"http://www.w3.org/2000/svg\" height=\"24px\"viewBox=\"0 0 24 24\"\n",
              "     width=\"24px\">\n",
              "    <g>\n",
              "        <path d=\"M19 3H5c-1.1 0-2 .9-2 2v14c0 1.1.9 2 2 2h14c1.1 0 2-.9 2-2V5c0-1.1-.9-2-2-2zM9 17H7v-7h2v7zm4 0h-2V7h2v10zm4 0h-2v-4h2v4z\"/>\n",
              "    </g>\n",
              "</svg>\n",
              "  </button>\n",
              "\n",
              "<style>\n",
              "  .colab-df-quickchart {\n",
              "      --bg-color: #E8F0FE;\n",
              "      --fill-color: #1967D2;\n",
              "      --hover-bg-color: #E2EBFA;\n",
              "      --hover-fill-color: #174EA6;\n",
              "      --disabled-fill-color: #AAA;\n",
              "      --disabled-bg-color: #DDD;\n",
              "  }\n",
              "\n",
              "  [theme=dark] .colab-df-quickchart {\n",
              "      --bg-color: #3B4455;\n",
              "      --fill-color: #D2E3FC;\n",
              "      --hover-bg-color: #434B5C;\n",
              "      --hover-fill-color: #FFFFFF;\n",
              "      --disabled-bg-color: #3B4455;\n",
              "      --disabled-fill-color: #666;\n",
              "  }\n",
              "\n",
              "  .colab-df-quickchart {\n",
              "    background-color: var(--bg-color);\n",
              "    border: none;\n",
              "    border-radius: 50%;\n",
              "    cursor: pointer;\n",
              "    display: none;\n",
              "    fill: var(--fill-color);\n",
              "    height: 32px;\n",
              "    padding: 0;\n",
              "    width: 32px;\n",
              "  }\n",
              "\n",
              "  .colab-df-quickchart:hover {\n",
              "    background-color: var(--hover-bg-color);\n",
              "    box-shadow: 0 1px 2px rgba(60, 64, 67, 0.3), 0 1px 3px 1px rgba(60, 64, 67, 0.15);\n",
              "    fill: var(--button-hover-fill-color);\n",
              "  }\n",
              "\n",
              "  .colab-df-quickchart-complete:disabled,\n",
              "  .colab-df-quickchart-complete:disabled:hover {\n",
              "    background-color: var(--disabled-bg-color);\n",
              "    fill: var(--disabled-fill-color);\n",
              "    box-shadow: none;\n",
              "  }\n",
              "\n",
              "  .colab-df-spinner {\n",
              "    border: 2px solid var(--fill-color);\n",
              "    border-color: transparent;\n",
              "    border-bottom-color: var(--fill-color);\n",
              "    animation:\n",
              "      spin 1s steps(1) infinite;\n",
              "  }\n",
              "\n",
              "  @keyframes spin {\n",
              "    0% {\n",
              "      border-color: transparent;\n",
              "      border-bottom-color: var(--fill-color);\n",
              "      border-left-color: var(--fill-color);\n",
              "    }\n",
              "    20% {\n",
              "      border-color: transparent;\n",
              "      border-left-color: var(--fill-color);\n",
              "      border-top-color: var(--fill-color);\n",
              "    }\n",
              "    30% {\n",
              "      border-color: transparent;\n",
              "      border-left-color: var(--fill-color);\n",
              "      border-top-color: var(--fill-color);\n",
              "      border-right-color: var(--fill-color);\n",
              "    }\n",
              "    40% {\n",
              "      border-color: transparent;\n",
              "      border-right-color: var(--fill-color);\n",
              "      border-top-color: var(--fill-color);\n",
              "    }\n",
              "    60% {\n",
              "      border-color: transparent;\n",
              "      border-right-color: var(--fill-color);\n",
              "    }\n",
              "    80% {\n",
              "      border-color: transparent;\n",
              "      border-right-color: var(--fill-color);\n",
              "      border-bottom-color: var(--fill-color);\n",
              "    }\n",
              "    90% {\n",
              "      border-color: transparent;\n",
              "      border-bottom-color: var(--fill-color);\n",
              "    }\n",
              "  }\n",
              "</style>\n",
              "\n",
              "  <script>\n",
              "    async function quickchart(key) {\n",
              "      const quickchartButtonEl =\n",
              "        document.querySelector('#' + key + ' button');\n",
              "      quickchartButtonEl.disabled = true;  // To prevent multiple clicks.\n",
              "      quickchartButtonEl.classList.add('colab-df-spinner');\n",
              "      try {\n",
              "        const charts = await google.colab.kernel.invokeFunction(\n",
              "            'suggestCharts', [key], {});\n",
              "      } catch (error) {\n",
              "        console.error('Error during call to suggestCharts:', error);\n",
              "      }\n",
              "      quickchartButtonEl.classList.remove('colab-df-spinner');\n",
              "      quickchartButtonEl.classList.add('colab-df-quickchart-complete');\n",
              "    }\n",
              "    (() => {\n",
              "      let quickchartButtonEl =\n",
              "        document.querySelector('#df-cd6e4bd6-fa0d-4751-b2a1-4d1b6475e32e button');\n",
              "      quickchartButtonEl.style.display =\n",
              "        google.colab.kernel.accessAllowed ? 'block' : 'none';\n",
              "    })();\n",
              "  </script>\n",
              "</div>\n",
              "    </div>\n",
              "  </div>\n"
            ]
          },
          "metadata": {},
          "execution_count": 16
        }
      ],
      "metadata": {
        "datalore": {
          "node_id": "0eiL3CJWuGpMDmejKze5CS",
          "type": "CODE",
          "hide_input_from_viewers": true,
          "hide_output_from_viewers": true
        },
        "id": "vyfEYINYcS1D",
        "outputId": "16378807-efb8-47fc-8436-ad8e73689f28",
        "colab": {
          "base_uri": "https://localhost:8080/",
          "height": 308
        }
      }
    },
    {
      "cell_type": "markdown",
      "source": [
        "### Separate and drop satisfaction column the target for model"
      ],
      "metadata": {
        "datalore": {
          "node_id": "6geDuhBHBADoSn4mMmC0uS",
          "type": "MD",
          "hide_input_from_viewers": true,
          "hide_output_from_viewers": true
        },
        "id": "DGw4VFjPcS1D"
      }
    },
    {
      "cell_type": "code",
      "source": [
        "y = X['satisfaction']\n",
        "X.drop(columns=['satisfaction'], inplace=True)"
      ],
      "execution_count": null,
      "outputs": [],
      "metadata": {
        "datalore": {
          "node_id": "pOFbbxtp0hOrQzghJdl4OB",
          "type": "CODE",
          "hide_input_from_viewers": true,
          "hide_output_from_viewers": true
        },
        "id": "zLk3jPlwcS1D"
      }
    },
    {
      "cell_type": "markdown",
      "source": [
        "### Split data into train and test sets"
      ],
      "metadata": {
        "datalore": {
          "node_id": "IH74q1RJSRfeqQD7Fa3SZP",
          "type": "MD",
          "hide_input_from_viewers": true,
          "hide_output_from_viewers": true
        },
        "id": "0Lp7GMZCcS1D"
      }
    },
    {
      "cell_type": "code",
      "source": [
        "X_train, X_test, y_train, y_test = train_test_split(X, y, test_size=0.2, random_state=123)"
      ],
      "execution_count": null,
      "outputs": [],
      "metadata": {
        "datalore": {
          "node_id": "NlL21Svrw2yCDxv0pQhuYp",
          "type": "CODE",
          "hide_input_from_viewers": true,
          "hide_output_from_viewers": true
        },
        "id": "Wks9byOmcS1D"
      }
    },
    {
      "cell_type": "markdown",
      "source": [
        "## KNN"
      ],
      "metadata": {
        "datalore": {
          "node_id": "8SoykjJhCTp3eaeFb4yceT",
          "type": "MD",
          "hide_input_from_viewers": true,
          "hide_output_from_viewers": true
        },
        "id": "m6AiWi2HcS1D"
      }
    },
    {
      "cell_type": "markdown",
      "source": [
        "### Train model with nn = 5, nn=7, nn = 10 and evaluate"
      ],
      "metadata": {
        "datalore": {
          "node_id": "o9bEHlql19E3udmBza7J81",
          "type": "MD",
          "hide_input_from_viewers": true,
          "hide_output_from_viewers": true
        },
        "id": "uXflMQamcS1D"
      }
    },
    {
      "cell_type": "code",
      "source": [
        "knn5 = KNeighborsClassifier(n_neighbors=5)\n",
        "knn5.fit(X_train, y_train)\n",
        "\n",
        "knn7 = KNeighborsClassifier(n_neighbors=7)\n",
        "knn7.fit(X_train, y_train)\n",
        "\n",
        "knn10 = KNeighborsClassifier(n_neighbors=10)\n",
        "knn10.fit(X_train, y_train)\n",
        "\n",
        "y_pred_knn5 = knn5.predict(X_test)\n",
        "y_pred_knn7 = knn7.predict(X_test)\n",
        "y_pred_knn10 = knn10.predict(X_test)"
      ],
      "execution_count": null,
      "outputs": [],
      "metadata": {
        "datalore": {
          "node_id": "yUyPxmRYL23lq12oyuZcJ2",
          "type": "CODE",
          "hide_input_from_viewers": true,
          "hide_output_from_viewers": true
        },
        "id": "FK9sPj3BcS1D"
      }
    },
    {
      "cell_type": "code",
      "source": [
        "report_knn5 = classification_report(y_test, y_pred_knn5)\n",
        "report_knn7 = classification_report(y_test, y_pred_knn7)\n",
        "report_knn10 = classification_report(y_test, y_pred_knn10)"
      ],
      "execution_count": null,
      "outputs": [],
      "metadata": {
        "datalore": {
          "node_id": "3cEUiloL1P0DPZ1xCDy4MR",
          "type": "CODE",
          "hide_input_from_viewers": true,
          "hide_output_from_viewers": true
        },
        "id": "j0r8vz01cS1E"
      }
    },
    {
      "cell_type": "code",
      "source": [
        "print(report_knn5)\n",
        "print(report_knn7)\n",
        "print(report_knn10)"
      ],
      "execution_count": null,
      "outputs": [
        {
          "output_type": "stream",
          "name": "stdout",
          "text": [
            "              precision    recall  f1-score   support\n",
            "\n",
            "           0       0.63      0.71      0.67     14597\n",
            "           1       0.55      0.46      0.50     11301\n",
            "\n",
            "    accuracy                           0.60     25898\n",
            "   macro avg       0.59      0.58      0.58     25898\n",
            "weighted avg       0.59      0.60      0.59     25898\n",
            "\n",
            "              precision    recall  f1-score   support\n",
            "\n",
            "           0       0.63      0.74      0.68     14597\n",
            "           1       0.56      0.44      0.49     11301\n",
            "\n",
            "    accuracy                           0.61     25898\n",
            "   macro avg       0.60      0.59      0.59     25898\n",
            "weighted avg       0.60      0.61      0.60     25898\n",
            "\n",
            "              precision    recall  f1-score   support\n",
            "\n",
            "           0       0.62      0.83      0.71     14597\n",
            "           1       0.61      0.35      0.45     11301\n",
            "\n",
            "    accuracy                           0.62     25898\n",
            "   macro avg       0.62      0.59      0.58     25898\n",
            "weighted avg       0.62      0.62      0.60     25898\n",
            "\n"
          ]
        }
      ],
      "metadata": {
        "datalore": {
          "node_id": "KJyQ8eCWIlk8cSkL8qgp9e",
          "type": "CODE",
          "hide_input_from_viewers": true,
          "hide_output_from_viewers": true
        },
        "id": "3JZ-PUK_cS1E",
        "outputId": "9ae310c0-5a71-4ee3-a791-122dd966f67e",
        "colab": {
          "base_uri": "https://localhost:8080/"
        }
      }
    },
    {
      "cell_type": "markdown",
      "source": [
        "## Naive Bayes"
      ],
      "metadata": {
        "datalore": {
          "node_id": "gTlatl4HQt5kyO3hRWXSaa",
          "type": "MD",
          "hide_input_from_viewers": true,
          "hide_output_from_viewers": true
        },
        "id": "aMoru6PdcS1E"
      }
    },
    {
      "cell_type": "markdown",
      "source": [
        "### Train and test model"
      ],
      "metadata": {
        "datalore": {
          "node_id": "hh74KYpkyrUGj2s9LUdh5n",
          "type": "MD",
          "hide_input_from_viewers": true,
          "hide_output_from_viewers": true
        },
        "id": "5ZoUzrltcS1E"
      }
    },
    {
      "cell_type": "code",
      "source": [
        "nb = MultinomialNB()\n",
        "nb.fit(X_train, y_train)\n",
        "y_pred_nb = nb.predict(X_test)"
      ],
      "execution_count": null,
      "outputs": [],
      "metadata": {
        "datalore": {
          "node_id": "z8Nji0U8O2FX714Km3NE1c",
          "type": "CODE",
          "hide_input_from_viewers": true,
          "hide_output_from_viewers": true
        },
        "id": "rpuf_qEdcS1E"
      }
    },
    {
      "cell_type": "markdown",
      "source": [
        "### Analysis of model"
      ],
      "metadata": {
        "datalore": {
          "node_id": "2x7uElNXcSuGM00L49mdsg",
          "type": "MD",
          "hide_input_from_viewers": true,
          "hide_output_from_viewers": true
        },
        "id": "3znJZSjwcS1E"
      }
    },
    {
      "cell_type": "code",
      "source": [
        "report_nb = classification_report(y_test, y_pred_nb)\n",
        "print(report_nb)"
      ],
      "execution_count": null,
      "outputs": [
        {
          "output_type": "stream",
          "name": "stdout",
          "text": [
            "              precision    recall  f1-score   support\n",
            "\n",
            "           0       0.62      0.54      0.58     14597\n",
            "           1       0.49      0.58      0.53     11301\n",
            "\n",
            "    accuracy                           0.56     25898\n",
            "   macro avg       0.56      0.56      0.55     25898\n",
            "weighted avg       0.57      0.56      0.56     25898\n",
            "\n"
          ]
        }
      ],
      "metadata": {
        "datalore": {
          "node_id": "ZVHpg8AZvd13kgZv3ILiSx",
          "type": "CODE",
          "hide_input_from_viewers": true,
          "hide_output_from_viewers": true
        },
        "id": "B-GbcEyxcS1E",
        "outputId": "2086b578-8fa6-41e3-d622-bd2b94296842",
        "colab": {
          "base_uri": "https://localhost:8080/"
        }
      }
    },
    {
      "cell_type": "markdown",
      "source": [
        "## Logistic Regression"
      ],
      "metadata": {
        "datalore": {
          "node_id": "4GU4pimY1uYqXr4qHaFBr5",
          "type": "MD",
          "hide_input_from_viewers": true,
          "hide_output_from_viewers": true
        },
        "id": "ETYDLSVkcS1E"
      }
    },
    {
      "cell_type": "code",
      "source": [
        "lr = LogisticRegression(max_iter=1000)\n",
        "lr.fit(X_train, y_train)\n",
        "y_pred_lr = lr.predict(X_test)\n",
        "\n",
        "report_lr = classification_report(y_test, y_pred_lr)\n",
        "print(report_lr)"
      ],
      "execution_count": null,
      "outputs": [
        {
          "output_type": "stream",
          "name": "stdout",
          "text": [
            "              precision    recall  f1-score   support\n",
            "\n",
            "           0       0.81      0.79      0.80     14597\n",
            "           1       0.74      0.75      0.75     11301\n",
            "\n",
            "    accuracy                           0.78     25898\n",
            "   macro avg       0.77      0.77      0.77     25898\n",
            "weighted avg       0.78      0.78      0.78     25898\n",
            "\n"
          ]
        }
      ],
      "metadata": {
        "datalore": {
          "node_id": "GJyljyYEuyfN1vpCGmFF3f",
          "type": "CODE",
          "hide_input_from_viewers": true,
          "hide_output_from_viewers": true
        },
        "id": "e6yhGxCPcS1E",
        "outputId": "1f3c6856-e6ba-42ba-de6e-9ebab92fb5eb",
        "colab": {
          "base_uri": "https://localhost:8080/"
        }
      }
    },
    {
      "cell_type": "markdown",
      "source": [
        "## Cross-Validation on recall"
      ],
      "metadata": {
        "datalore": {
          "node_id": "x6zZXtbxW80MjXc6MdR69a",
          "type": "MD",
          "hide_input_from_viewers": true,
          "hide_output_from_viewers": true
        },
        "id": "pkyn5L3ecS1E"
      }
    },
    {
      "cell_type": "code",
      "source": [
        "knn5_recalls = cross_val_score(knn5, X, y, cv=5, scoring='recall')\n",
        "knn5_avg_recall = knn5_recalls.mean()"
      ],
      "execution_count": null,
      "outputs": [],
      "metadata": {
        "datalore": {
          "node_id": "ljgJ2TfKrZMonE4nVBhXED",
          "type": "CODE",
          "hide_input_from_viewers": true,
          "hide_output_from_viewers": true
        },
        "id": "loLh1WoecS1E"
      }
    },
    {
      "cell_type": "code",
      "source": [
        "nb_recalls = cross_val_score(nb, X, y, cv=5, scoring='recall')\n",
        "nb_avg_recall = nb_recalls.mean()"
      ],
      "execution_count": null,
      "outputs": [],
      "metadata": {
        "datalore": {
          "node_id": "0fKPXVh9AsZOeUNT6Y20iq",
          "type": "CODE",
          "hide_input_from_viewers": true,
          "hide_output_from_viewers": true
        },
        "id": "jzLX5_CBcS1E"
      }
    },
    {
      "cell_type": "code",
      "source": [
        "lr_recalls = cross_val_score(lr, X, y, cv=5, scoring='recall')\n",
        "lr_avg_recall = lr_recalls.mean()"
      ],
      "execution_count": null,
      "outputs": [],
      "metadata": {
        "datalore": {
          "node_id": "Sdfa9vb1CdtvYFHbcE8w8V",
          "type": "CODE",
          "hide_input_from_viewers": true,
          "hide_output_from_viewers": true
        },
        "id": "N61Bv0k8cS1E"
      }
    },
    {
      "cell_type": "code",
      "source": [
        "print(\"KNN5 Cross-Validation Recall:\", round(knn5_avg_recall,3))\n",
        "print(\"Naive Bayes Cross-Validation Recall:\", round(nb_avg_recall,3))\n",
        "print(\"Logistic Regression Cross-Validation Recall:\", round(lr_avg_recall,3))"
      ],
      "execution_count": null,
      "outputs": [
        {
          "output_type": "stream",
          "name": "stdout",
          "text": [
            "KNN5 Cross-Validation Recall: 0.385\n",
            "Naive Bayes Cross-Validation Recall: 0.555\n",
            "Logistic Regression Cross-Validation Recall: 0.739\n"
          ]
        }
      ],
      "metadata": {
        "datalore": {
          "node_id": "jZOBWPUZV3DPKLanN1kBYu",
          "type": "CODE",
          "hide_input_from_viewers": true,
          "hide_output_from_viewers": true
        },
        "id": "N_iAeU3vcS1E",
        "outputId": "e86ff0ba-87ba-4651-91db-62e976425c59",
        "colab": {
          "base_uri": "https://localhost:8080/"
        }
      }
    },
    {
      "cell_type": "markdown",
      "source": [
        "### Recall decreased for all models when performing 5-fold CV. The Logistic Regression model had the highest recall value, which is important when identifying loyal customers to target for a loyalty program."
      ],
      "metadata": {
        "datalore": {
          "node_id": "tSLtlsgV2a1nS1lrtuEgKK",
          "type": "MD",
          "hide_input_from_viewers": true,
          "hide_output_from_viewers": true
        },
        "id": "GTP-JelecS1E"
      }
    },
    {
      "cell_type": "code",
      "source": [],
      "execution_count": null,
      "outputs": [],
      "metadata": {
        "datalore": {
          "node_id": "hF5VJy6cPFyRc6friSurGX",
          "type": "CODE",
          "hide_input_from_viewers": true,
          "hide_output_from_viewers": true
        },
        "id": "jsRhlZeNcS1E"
      }
    }
  ],
  "metadata": {
    "kernelspec": {
      "display_name": "Python",
      "language": "python",
      "name": "python"
    },
    "datalore": {
      "computation_mode": "JUPYTER",
      "package_manager": "pip",
      "base_environment": "default",
      "packages": [],
      "report_row_ids": [],
      "version": 3
    },
    "colab": {
      "provenance": [],
      "include_colab_link": true
    }
  },
  "nbformat": 4,
  "nbformat_minor": 0
}